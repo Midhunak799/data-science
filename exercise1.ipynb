{
 "cells": [
  {
   "cell_type": "code",
   "execution_count": null,
   "metadata": {},
   "outputs": [],
   "source": []
  },
  {
   "cell_type": "code",
   "execution_count": null,
   "metadata": {},
   "outputs": [
    {
     "name": "stdout",
     "output_type": "stream",
     "text": [
      "1.Add\n",
      "2.Sub\n",
      "3.Multiply\n",
      "4.Division\n",
      "ENTER YOUR OPTION(1/2/3/4):1\n",
      "ENTER THE FIRST NUMBER:10\n",
      "ENTER THE SECOND NUMBER:10\n",
      "20\n",
      "ENTER YOUR OPTION(1/2/3/4):2\n",
      "ENTER THE FIRST NUMBER:10\n",
      "ENTER THE SECOND NUMBER:5\n",
      "5\n",
      "ENTER YOUR OPTION(1/2/3/4):3\n",
      "ENTER THE FIRST NUMBER:10\n",
      "ENTER THE SECOND NUMBER:10\n",
      "100\n",
      "ENTER YOUR OPTION(1/2/3/4):4\n",
      "ENTER THE FIRST NUMBER:20\n",
      "ENTER THE SECOND NUMBER:5\n",
      "4.0\n",
      "ENTER YOUR OPTION(1/2/3/4):4\n",
      "ENTER THE FIRST NUMBER:20\n",
      "ENTER THE SECOND NUMBER:0\n",
      "DIVISION IS NOT POSSIBLE\n"
     ]
    }
   ],
   "source": [
    "#calculator\n",
    "def add(a,b):\n",
    "    return a+b\n",
    "\n",
    "def substract(a,b):\n",
    "    return a-b\n",
    "\n",
    "def multiply(a,b):\n",
    "    return a*b\n",
    "def division(a,b):\n",
    "    return a/b\n",
    "\n",
    "\n",
    "print(\"1.Add\")\n",
    "print(\"2.Sub\")\n",
    "print(\"3.Multiply\")\n",
    "print(\"4.Division\")\n",
    "\n",
    "while True:\n",
    "    \n",
    "    \n",
    "    opt=input(\"ENTER YOUR OPTION(1/2/3/4):\")\n",
    "    \n",
    "    if opt in ('1','2','3','4'):\n",
    "        \n",
    "        nbr1=int(input(\"ENTER THE FIRST NUMBER:\"))\n",
    "        nbr2=int(input(\"ENTER THE SECOND NUMBER:\"))\n",
    "        \n",
    "        if opt == '1':\n",
    "            \n",
    "            print(add(nbr1,nbr2))\n",
    "        \n",
    "        elif opt == '2':\n",
    "            \n",
    "            print(substract(nbr1,nbr2))\n",
    "        \n",
    "        elif opt == '3':\n",
    "            \n",
    "            print(multiply(nbr1,nbr2))\n",
    "        \n",
    "        \n",
    "        elif opt == '4':\n",
    "             if nbr2 == 0:\n",
    "                      \n",
    "                    print(\"DIVISION IS NOT POSSIBLE\")\n",
    "                    \n",
    "                    \n",
    "                    \n",
    "                \n",
    "                \n",
    "            \n",
    "        \n",
    "             else:\n",
    "                  print(division(nbr1,nbr2))\n",
    "                    \n",
    "                    \n",
    "                \n",
    "                \n",
    "                \n",
    "        else:\n",
    "                \n",
    "            print(\"invalid\")"
   ]
  },
  {
   "cell_type": "code",
   "execution_count": null,
   "metadata": {
    "collapsed": true
   },
   "outputs": [],
   "source": []
  }
 ],
 "metadata": {
  "kernelspec": {
   "display_name": "Python 3",
   "language": "python",
   "name": "python3"
  },
  "language_info": {
   "codemirror_mode": {
    "name": "ipython",
    "version": 3
   },
   "file_extension": ".py",
   "mimetype": "text/x-python",
   "name": "python",
   "nbconvert_exporter": "python",
   "pygments_lexer": "ipython3",
   "version": "3.6.9"
  }
 },
 "nbformat": 4,
 "nbformat_minor": 2
}
